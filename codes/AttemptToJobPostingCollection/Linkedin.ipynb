{
 "cells": [
  {
   "cell_type": "code",
   "execution_count": 2,
   "metadata": {},
   "outputs": [],
   "source": [
    "from linkedin_api import Linkedin\n",
    "\n",
    "# Authenticate using any Linkedin account credentials\n",
    "api = Linkedin('xw370@georgetown.edu', 'yuzuru~1015')"
   ]
  },
  {
   "cell_type": "code",
   "execution_count": 4,
   "metadata": {},
   "outputs": [
    {
     "name": "stdout",
     "output_type": "stream",
     "text": [
      "[{'dashEntityUrn': 'urn:li:fsd_jobPosting:3465220863', 'companyDetails': {'company': 'urn:li:fs_normalized_company:33246798', '*companyResolutionResult': 'urn:li:fs_normalized_company:33246798', '$recipeTypes': ['com.linkedin.voyager.deco.jserp.WebJobPostingWithCompanyName'], '$type': 'com.linkedin.voyager.jobs.JobPostingCompany'}, 'formattedLocation': 'San Jose, CA', 'listedAt': 1688910740000, 'title': 'Software Engineer -- TikTok Search Engineering', '$recipeTypes': ['com.linkedin.voyager.deco.jserp.WebSearchJobJserpJobPostingLite'], '$type': 'com.linkedin.voyager.jobs.JobPosting', 'entityUrn': 'urn:li:fs_normalized_jobPosting:3465220863', 'workRemoteAllowed': False}, {'dashEntityUrn': 'urn:li:fsd_jobPosting:3595176172', 'companyDetails': {'company': 'urn:li:fs_normalized_company:33246798', '*companyResolutionResult': 'urn:li:fs_normalized_company:33246798', '$recipeTypes': ['com.linkedin.voyager.deco.jserp.WebJobPostingWithCompanyName'], '$type': 'com.linkedin.voyager.jobs.JobPostingCompany'}, 'formattedLocation': 'Seattle, WA', 'listedAt': 1688912934000, 'title': 'Backend Software Engineer - SEO, TikTok User Growth', '$recipeTypes': ['com.linkedin.voyager.deco.jserp.WebSearchJobJserpJobPostingLite'], '$type': 'com.linkedin.voyager.jobs.JobPosting', 'entityUrn': 'urn:li:fs_normalized_jobPosting:3595176172', 'workRemoteAllowed': False}, {'dashEntityUrn': 'urn:li:fsd_jobPosting:3560532955', 'companyDetails': {'company': 'urn:li:fs_normalized_company:33246798', '*companyResolutionResult': 'urn:li:fs_normalized_company:33246798', '$recipeTypes': ['com.linkedin.voyager.deco.jserp.WebJobPostingWithCompanyName'], '$type': 'com.linkedin.voyager.jobs.JobPostingCompany'}, 'formattedLocation': 'New York, United States', 'listedAt': 1688909284000, 'title': 'Access Assurance Developer', '$recipeTypes': ['com.linkedin.voyager.deco.jserp.WebSearchJobJserpJobPostingLite'], '$type': 'com.linkedin.voyager.jobs.JobPosting', 'entityUrn': 'urn:li:fs_normalized_jobPosting:3560532955', 'workRemoteAllowed': False}, {'dashEntityUrn': 'urn:li:fsd_jobPosting:3560533810', 'companyDetails': {'company': 'urn:li:fs_normalized_company:33246798', '*companyResolutionResult': 'urn:li:fs_normalized_company:33246798', '$recipeTypes': ['com.linkedin.voyager.deco.jserp.WebJobPostingWithCompanyName'], '$type': 'com.linkedin.voyager.jobs.JobPostingCompany'}, 'formattedLocation': 'New York, United States', 'listedAt': 1688913505000, 'title': 'Data Defense Operations Developer', '$recipeTypes': ['com.linkedin.voyager.deco.jserp.WebSearchJobJserpJobPostingLite'], '$type': 'com.linkedin.voyager.jobs.JobPosting', 'entityUrn': 'urn:li:fs_normalized_jobPosting:3560533810', 'workRemoteAllowed': False}, {'dashEntityUrn': 'urn:li:fsd_jobPosting:3618601167', 'companyDetails': {'company': 'urn:li:fs_normalized_company:10510386', '*companyResolutionResult': 'urn:li:fs_normalized_company:10510386', '$recipeTypes': ['com.linkedin.voyager.deco.jserp.WebJobPostingWithCompanyName'], '$type': 'com.linkedin.voyager.jobs.JobPostingCompany'}, 'formattedLocation': 'Fairfax, VA', 'listedAt': 1688911175000, 'title': 'Entry Level Software Engineer', '$recipeTypes': ['com.linkedin.voyager.deco.jserp.WebSearchJobJserpJobPostingLite'], '$type': 'com.linkedin.voyager.jobs.JobPosting', 'entityUrn': 'urn:li:fs_normalized_jobPosting:3618601167', 'workRemoteAllowed': False}, {'dashEntityUrn': 'urn:li:fsd_jobPosting:3526490160', 'companyDetails': {'company': 'urn:li:fs_normalized_company:33246798', '*companyResolutionResult': 'urn:li:fs_normalized_company:33246798', '$recipeTypes': ['com.linkedin.voyager.deco.jserp.WebJobPostingWithCompanyName'], '$type': 'com.linkedin.voyager.jobs.JobPostingCompany'}, 'formattedLocation': 'San Jose, CA', 'listedAt': 1688913582000, 'title': 'Software Engineer, Experimentation & Evaluation-TikTok Data Platform', '$recipeTypes': ['com.linkedin.voyager.deco.jserp.WebSearchJobJserpJobPostingLite'], '$type': 'com.linkedin.voyager.jobs.JobPosting', 'entityUrn': 'urn:li:fs_normalized_jobPosting:3526490160', 'workRemoteAllowed': False}, {'dashEntityUrn': 'urn:li:fsd_jobPosting:3586955458', 'companyDetails': {'company': 'urn:li:fs_normalized_company:33246798', '*companyResolutionResult': 'urn:li:fs_normalized_company:33246798', '$recipeTypes': ['com.linkedin.voyager.deco.jserp.WebJobPostingWithCompanyName'], '$type': 'com.linkedin.voyager.jobs.JobPostingCompany'}, 'formattedLocation': 'Seattle, WA', 'listedAt': 1688910140000, 'title': 'Data Engineer - Ads Data', '$recipeTypes': ['com.linkedin.voyager.deco.jserp.WebSearchJobJserpJobPostingLite'], '$type': 'com.linkedin.voyager.jobs.JobPosting', 'entityUrn': 'urn:li:fs_normalized_jobPosting:3586955458', 'workRemoteAllowed': False}, {'dashEntityUrn': 'urn:li:fsd_jobPosting:3654266614', 'companyDetails': {'company': 'urn:li:fs_normalized_company:1038', '*companyResolutionResult': 'urn:li:fs_normalized_company:1038', '$recipeTypes': ['com.linkedin.voyager.deco.jserp.WebJobPostingWithCompanyName'], '$type': 'com.linkedin.voyager.jobs.JobPostingCompany'}, 'formattedLocation': 'Washington, DC', 'listedAt': 1688956872000, 'title': 'Deloitte Software Engineer', '$recipeTypes': ['com.linkedin.voyager.deco.jserp.WebSearchJobJserpJobPostingLite'], '$type': 'com.linkedin.voyager.jobs.JobPosting', 'entityUrn': 'urn:li:fs_normalized_jobPosting:3654266614', 'workRemoteAllowed': False}, {'dashEntityUrn': 'urn:li:fsd_jobPosting:3617017497', 'companyDetails': {'company': 'urn:li:fs_normalized_company:1441', '*companyResolutionResult': 'urn:li:fs_normalized_company:1441', '$recipeTypes': ['com.linkedin.voyager.deco.jserp.WebJobPostingWithCompanyName'], '$type': 'com.linkedin.voyager.jobs.JobPostingCompany'}, 'formattedLocation': 'Reston, VA', 'listedAt': 1688901980000, 'title': 'AI Engineer, Google Cloud Consulting', '$recipeTypes': ['com.linkedin.voyager.deco.jserp.WebSearchJobJserpJobPostingLite'], '$type': 'com.linkedin.voyager.jobs.JobPosting', 'entityUrn': 'urn:li:fs_normalized_jobPosting:3617017497', 'workRemoteAllowed': False}, {'dashEntityUrn': 'urn:li:fsd_jobPosting:3566790505', 'companyDetails': {'company': 'urn:li:fs_normalized_company:33246798', '*companyResolutionResult': 'urn:li:fs_normalized_company:33246798', '$recipeTypes': ['com.linkedin.voyager.deco.jserp.WebJobPostingWithCompanyName'], '$type': 'com.linkedin.voyager.jobs.JobPostingCompany'}, 'formattedLocation': 'Washington, DC', 'listedAt': 1688910143000, 'title': 'Data Defense Operations Developer', '$recipeTypes': ['com.linkedin.voyager.deco.jserp.WebSearchJobJserpJobPostingLite'], '$type': 'com.linkedin.voyager.jobs.JobPosting', 'entityUrn': 'urn:li:fs_normalized_jobPosting:3566790505', 'workRemoteAllowed': False}]\n"
     ]
    }
   ],
   "source": [
    "# Search jobs\n",
    "results = api.search_jobs(keywords='software engineer', limit=10)\n",
    "print(results)"
   ]
  },
  {
   "cell_type": "code",
   "execution_count": 10,
   "metadata": {},
   "outputs": [
    {
     "name": "stdout",
     "output_type": "stream",
     "text": [
      "{'dashEntityUrn': 'urn:li:fsd_jobPosting:3465220863', 'companyDetails': {'company': 'urn:li:fs_normalized_company:33246798', '*companyResolutionResult': 'urn:li:fs_normalized_company:33246798', '$recipeTypes': ['com.linkedin.voyager.deco.jserp.WebJobPostingWithCompanyName'], '$type': 'com.linkedin.voyager.jobs.JobPostingCompany'}, 'formattedLocation': 'San Jose, CA', 'listedAt': 1688910740000, 'title': 'Software Engineer -- TikTok Search Engineering', '$recipeTypes': ['com.linkedin.voyager.deco.jserp.WebSearchJobJserpJobPostingLite'], '$type': 'com.linkedin.voyager.jobs.JobPosting', 'entityUrn': 'urn:li:fs_normalized_jobPosting:3465220863', 'workRemoteAllowed': False}\n",
      "Title: Software Engineer -- TikTok Search Engineering\n",
      "Company: None\n",
      "Location: None\n",
      "Description: None\n",
      "---\n",
      "\n",
      "{'dashEntityUrn': 'urn:li:fsd_jobPosting:3595176172', 'companyDetails': {'company': 'urn:li:fs_normalized_company:33246798', '*companyResolutionResult': 'urn:li:fs_normalized_company:33246798', '$recipeTypes': ['com.linkedin.voyager.deco.jserp.WebJobPostingWithCompanyName'], '$type': 'com.linkedin.voyager.jobs.JobPostingCompany'}, 'formattedLocation': 'Seattle, WA', 'listedAt': 1688912934000, 'title': 'Backend Software Engineer - SEO, TikTok User Growth', '$recipeTypes': ['com.linkedin.voyager.deco.jserp.WebSearchJobJserpJobPostingLite'], '$type': 'com.linkedin.voyager.jobs.JobPosting', 'entityUrn': 'urn:li:fs_normalized_jobPosting:3595176172', 'workRemoteAllowed': False}\n",
      "Title: Backend Software Engineer - SEO, TikTok User Growth\n",
      "Company: None\n",
      "Location: None\n",
      "Description: None\n",
      "---\n",
      "\n",
      "{'dashEntityUrn': 'urn:li:fsd_jobPosting:3560532955', 'companyDetails': {'company': 'urn:li:fs_normalized_company:33246798', '*companyResolutionResult': 'urn:li:fs_normalized_company:33246798', '$recipeTypes': ['com.linkedin.voyager.deco.jserp.WebJobPostingWithCompanyName'], '$type': 'com.linkedin.voyager.jobs.JobPostingCompany'}, 'formattedLocation': 'New York, United States', 'listedAt': 1688909284000, 'title': 'Access Assurance Developer', '$recipeTypes': ['com.linkedin.voyager.deco.jserp.WebSearchJobJserpJobPostingLite'], '$type': 'com.linkedin.voyager.jobs.JobPosting', 'entityUrn': 'urn:li:fs_normalized_jobPosting:3560532955', 'workRemoteAllowed': False}\n",
      "Title: Access Assurance Developer\n",
      "Company: None\n",
      "Location: None\n",
      "Description: None\n",
      "---\n",
      "\n",
      "{'dashEntityUrn': 'urn:li:fsd_jobPosting:3560533810', 'companyDetails': {'company': 'urn:li:fs_normalized_company:33246798', '*companyResolutionResult': 'urn:li:fs_normalized_company:33246798', '$recipeTypes': ['com.linkedin.voyager.deco.jserp.WebJobPostingWithCompanyName'], '$type': 'com.linkedin.voyager.jobs.JobPostingCompany'}, 'formattedLocation': 'New York, United States', 'listedAt': 1688913505000, 'title': 'Data Defense Operations Developer', '$recipeTypes': ['com.linkedin.voyager.deco.jserp.WebSearchJobJserpJobPostingLite'], '$type': 'com.linkedin.voyager.jobs.JobPosting', 'entityUrn': 'urn:li:fs_normalized_jobPosting:3560533810', 'workRemoteAllowed': False}\n",
      "Title: Data Defense Operations Developer\n",
      "Company: None\n",
      "Location: None\n",
      "Description: None\n",
      "---\n",
      "\n",
      "{'dashEntityUrn': 'urn:li:fsd_jobPosting:3618601167', 'companyDetails': {'company': 'urn:li:fs_normalized_company:10510386', '*companyResolutionResult': 'urn:li:fs_normalized_company:10510386', '$recipeTypes': ['com.linkedin.voyager.deco.jserp.WebJobPostingWithCompanyName'], '$type': 'com.linkedin.voyager.jobs.JobPostingCompany'}, 'formattedLocation': 'Fairfax, VA', 'listedAt': 1688911175000, 'title': 'Entry Level Software Engineer', '$recipeTypes': ['com.linkedin.voyager.deco.jserp.WebSearchJobJserpJobPostingLite'], '$type': 'com.linkedin.voyager.jobs.JobPosting', 'entityUrn': 'urn:li:fs_normalized_jobPosting:3618601167', 'workRemoteAllowed': False}\n",
      "Title: Entry Level Software Engineer\n",
      "Company: None\n",
      "Location: None\n",
      "Description: None\n",
      "---\n",
      "\n",
      "{'dashEntityUrn': 'urn:li:fsd_jobPosting:3526490160', 'companyDetails': {'company': 'urn:li:fs_normalized_company:33246798', '*companyResolutionResult': 'urn:li:fs_normalized_company:33246798', '$recipeTypes': ['com.linkedin.voyager.deco.jserp.WebJobPostingWithCompanyName'], '$type': 'com.linkedin.voyager.jobs.JobPostingCompany'}, 'formattedLocation': 'San Jose, CA', 'listedAt': 1688913582000, 'title': 'Software Engineer, Experimentation & Evaluation-TikTok Data Platform', '$recipeTypes': ['com.linkedin.voyager.deco.jserp.WebSearchJobJserpJobPostingLite'], '$type': 'com.linkedin.voyager.jobs.JobPosting', 'entityUrn': 'urn:li:fs_normalized_jobPosting:3526490160', 'workRemoteAllowed': False}\n",
      "Title: Software Engineer, Experimentation & Evaluation-TikTok Data Platform\n",
      "Company: None\n",
      "Location: None\n",
      "Description: None\n",
      "---\n",
      "\n",
      "{'dashEntityUrn': 'urn:li:fsd_jobPosting:3586955458', 'companyDetails': {'company': 'urn:li:fs_normalized_company:33246798', '*companyResolutionResult': 'urn:li:fs_normalized_company:33246798', '$recipeTypes': ['com.linkedin.voyager.deco.jserp.WebJobPostingWithCompanyName'], '$type': 'com.linkedin.voyager.jobs.JobPostingCompany'}, 'formattedLocation': 'Seattle, WA', 'listedAt': 1688910140000, 'title': 'Data Engineer - Ads Data', '$recipeTypes': ['com.linkedin.voyager.deco.jserp.WebSearchJobJserpJobPostingLite'], '$type': 'com.linkedin.voyager.jobs.JobPosting', 'entityUrn': 'urn:li:fs_normalized_jobPosting:3586955458', 'workRemoteAllowed': False}\n",
      "Title: Data Engineer - Ads Data\n",
      "Company: None\n",
      "Location: None\n",
      "Description: None\n",
      "---\n",
      "\n",
      "{'dashEntityUrn': 'urn:li:fsd_jobPosting:3654266614', 'companyDetails': {'company': 'urn:li:fs_normalized_company:1038', '*companyResolutionResult': 'urn:li:fs_normalized_company:1038', '$recipeTypes': ['com.linkedin.voyager.deco.jserp.WebJobPostingWithCompanyName'], '$type': 'com.linkedin.voyager.jobs.JobPostingCompany'}, 'formattedLocation': 'Washington, DC', 'listedAt': 1688956872000, 'title': 'Deloitte Software Engineer', '$recipeTypes': ['com.linkedin.voyager.deco.jserp.WebSearchJobJserpJobPostingLite'], '$type': 'com.linkedin.voyager.jobs.JobPosting', 'entityUrn': 'urn:li:fs_normalized_jobPosting:3654266614', 'workRemoteAllowed': False}\n",
      "Title: Deloitte Software Engineer\n",
      "Company: None\n",
      "Location: None\n",
      "Description: None\n",
      "---\n",
      "\n",
      "{'dashEntityUrn': 'urn:li:fsd_jobPosting:3617017497', 'companyDetails': {'company': 'urn:li:fs_normalized_company:1441', '*companyResolutionResult': 'urn:li:fs_normalized_company:1441', '$recipeTypes': ['com.linkedin.voyager.deco.jserp.WebJobPostingWithCompanyName'], '$type': 'com.linkedin.voyager.jobs.JobPostingCompany'}, 'formattedLocation': 'Reston, VA', 'listedAt': 1688901980000, 'title': 'AI Engineer, Google Cloud Consulting', '$recipeTypes': ['com.linkedin.voyager.deco.jserp.WebSearchJobJserpJobPostingLite'], '$type': 'com.linkedin.voyager.jobs.JobPosting', 'entityUrn': 'urn:li:fs_normalized_jobPosting:3617017497', 'workRemoteAllowed': False}\n",
      "Title: AI Engineer, Google Cloud Consulting\n",
      "Company: None\n",
      "Location: None\n",
      "Description: None\n",
      "---\n",
      "\n",
      "{'dashEntityUrn': 'urn:li:fsd_jobPosting:3566790505', 'companyDetails': {'company': 'urn:li:fs_normalized_company:33246798', '*companyResolutionResult': 'urn:li:fs_normalized_company:33246798', '$recipeTypes': ['com.linkedin.voyager.deco.jserp.WebJobPostingWithCompanyName'], '$type': 'com.linkedin.voyager.jobs.JobPostingCompany'}, 'formattedLocation': 'Washington, DC', 'listedAt': 1688910143000, 'title': 'Data Defense Operations Developer', '$recipeTypes': ['com.linkedin.voyager.deco.jserp.WebSearchJobJserpJobPostingLite'], '$type': 'com.linkedin.voyager.jobs.JobPosting', 'entityUrn': 'urn:li:fs_normalized_jobPosting:3566790505', 'workRemoteAllowed': False}\n",
      "Title: Data Defense Operations Developer\n",
      "Company: None\n",
      "Location: None\n",
      "Description: None\n",
      "---\n",
      "\n"
     ]
    }
   ],
   "source": [
    "for job in results:\n",
    "    print(job)\n",
    "    title = job.get('title')\n",
    "    company = job.get('company')\n",
    "    location = job.get('location')\n",
    "    description = job.get('description')\n",
    "    print(f\"Title: {title}\\nCompany: {company}\\nLocation: {location}\\nDescription: {description}\\n---\\n\")"
   ]
  },
  {
   "cell_type": "code",
   "execution_count": 11,
   "metadata": {},
   "outputs": [
    {
     "data": {
      "text/plain": [
       "'urn:li:fsd_jobPosting:3566790505'"
      ]
     },
     "execution_count": 11,
     "metadata": {},
     "output_type": "execute_result"
    }
   ],
   "source": [
    "job.get('dashEntityUrn')"
   ]
  },
  {
   "cell_type": "code",
   "execution_count": null,
   "metadata": {},
   "outputs": [],
   "source": []
  }
 ],
 "metadata": {
  "kernelspec": {
   "display_name": "anly645",
   "language": "python",
   "name": "python3"
  },
  "language_info": {
   "codemirror_mode": {
    "name": "ipython",
    "version": 3
   },
   "file_extension": ".py",
   "mimetype": "text/x-python",
   "name": "python",
   "nbconvert_exporter": "python",
   "pygments_lexer": "ipython3",
   "version": "3.10.11"
  },
  "orig_nbformat": 4
 },
 "nbformat": 4,
 "nbformat_minor": 2
}
